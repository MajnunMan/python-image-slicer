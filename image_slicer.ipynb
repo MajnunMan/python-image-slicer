{
 "cells": [
  {
   "cell_type": "code",
   "execution_count": null,
   "metadata": {},
   "outputs": [],
   "source": [
    "count =0"
   ]
  },
  {
   "cell_type": "code",
   "execution_count": 86,
   "metadata": {},
   "outputs": [],
   "source": [
    "import image_slicer\n",
    "import os\n",
    "\n",
    "def cut(file_name, num_of_slices, output_dir, prefixx):\n",
    "    tiles = image_slicer.slice(file_name, num_of_slices, save=False)\n",
    "    image_slicer.save_tiles(tiles, directory = output_dir, prefix = prefixx)\n",
    "    print(\"Sucessfully cut image into slices\")\n"
   ]
  },
  {
   "cell_type": "markdown",
   "metadata": {},
   "source": [
    "### It cuts large  *.tif images under `Airplane` directroy into 25 equally sized smaller images"
   ]
  },
  {
   "cell_type": "code",
   "execution_count": 87,
   "metadata": {},
   "outputs": [
    {
     "name": "stdout",
     "output_type": "stream",
     "text": [
      "Sucessfully cut image into slices\n",
      "Sucessfully cut image into slices\n",
      "Sucessfully cut image into slices\n",
      "Sucessfully cut image into slices\n",
      "Sucessfully cut image into slices\n",
      "Sucessfully cut image into slices\n",
      "Sucessfully cut image into slices\n",
      "Sucessfully cut image into slices\n",
      "Sucessfully cut image into slices\n",
      "Sucessfully cut image into slices\n",
      "Sucessfully cut image into slices\n",
      "Sucessfully cut image into slices\n",
      "Sucessfully cut image into slices\n",
      "Sucessfully cut image into slices\n",
      "Sucessfully cut image into slices\n",
      "Sucessfully cut image into slices\n"
     ]
    }
   ],
   "source": [
    "ortophotos = [\"586545\", \"586546\", \"586547\", \"586549\", \"589542\",\"586536\",\"587537\", \"588540\",\n",
    "              \"588544\",\"587545\", \"591537\",\"589543\", \"590541\", \"590542\", \"590543\", \"591537\"]\n",
    "output_dir = \"training\"\n",
    "\n",
    "for i in range(len(ortophotos)):\n",
    "    file_name = ortophotos[i] + \".tif\"\n",
    "    prefixx = \"image_\" + str(i)\n",
    "    cut(file_name, 25, output_dir, prefixx)\n"
   ]
  }
 ],
 "metadata": {
  "kernelspec": {
   "display_name": "Python 3",
   "language": "python",
   "name": "python3"
  },
  "language_info": {
   "codemirror_mode": {
    "name": "ipython",
    "version": 3
   },
   "file_extension": ".py",
   "mimetype": "text/x-python",
   "name": "python",
   "nbconvert_exporter": "python",
   "pygments_lexer": "ipython3",
   "version": "3.7.1"
  }
 },
 "nbformat": 4,
 "nbformat_minor": 2
}
